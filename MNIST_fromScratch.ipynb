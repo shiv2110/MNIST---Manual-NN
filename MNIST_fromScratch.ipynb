{
 "cells": [
  {
   "cell_type": "markdown",
   "metadata": {},
   "source": [
    "## Import the libraries"
   ]
  },
  {
   "cell_type": "code",
   "execution_count": 2,
   "metadata": {
    "colab": {},
    "colab_type": "code",
    "id": "eKct7a0wXW7Z"
   },
   "outputs": [],
   "source": [
    "# Import libraries\n",
    "import numpy as np\n",
    "%matplotlib inline\n",
    "import matplotlib\n",
    "import matplotlib.pyplot as plt\n",
    "from sklearn.datasets import fetch_openml\n",
    "from sklearn.metrics import classification_report, confusion_matrix"
   ]
  },
  {
   "cell_type": "markdown",
   "metadata": {},
   "source": [
    "## Read and transform data\n"
   ]
  },
  {
   "cell_type": "code",
   "execution_count": 3,
   "metadata": {},
   "outputs": [],
   "source": [
    "mnist = fetch_openml('mnist_784')\n",
    "input_data, y = mnist['data'], mnist['target']"
   ]
  },
  {
   "cell_type": "code",
   "execution_count": 4,
   "metadata": {},
   "outputs": [
    {
     "data": {
      "text/plain": [
       "array(['5', '0', '4', '1', '9', '2', '1'], dtype=object)"
      ]
     },
     "execution_count": 4,
     "metadata": {},
     "output_type": "execute_result"
    }
   ],
   "source": [
    "y[:7]"
   ]
  },
  {
   "cell_type": "code",
   "execution_count": 5,
   "metadata": {},
   "outputs": [],
   "source": [
    "input_data = input_data/255\n",
    "n_digits = 10\n",
    "y_one_hot = np.zeros([y.shape[0], n_digits])\n",
    "for i in range(y.shape[0]):\n",
    "    y_one_hot[i, int(y[i])] = 1\n",
    "y = y_one_hot"
   ]
  },
  {
   "cell_type": "code",
   "execution_count": 6,
   "metadata": {},
   "outputs": [],
   "source": [
    "m = 60000\n",
    "m_test = input_data.shape[0] - m\n",
    "y_train, y_test = y[:m, :].reshape(m, n_digits), y[m:, :].reshape(m_test, n_digits)\n",
    "x_train, x_test = input_data[:m, :], input_data[m:, :]\n",
    "np.random.seed(1002)"
   ]
  },
  {
   "cell_type": "markdown",
   "metadata": {
    "colab": {
     "base_uri": "https://localhost:8080/",
     "height": 282
    },
    "colab_type": "code",
    "id": "6BgFi6VIXW7f",
    "outputId": "56937bc3-9a18-4712-95e0-0a16811f63a0"
   },
   "source": [
    "## Show a random input\n",
    "\n"
   ]
  },
  {
   "cell_type": "code",
   "execution_count": 7,
   "metadata": {},
   "outputs": [
    {
     "data": {
      "image/png": "[encoded data removed]",
      "text/plain": [
       "<Figure size 432x288 with 1 Axes>"
      ]
     },
     "metadata": {
      "needs_background": "light"
     },
     "output_type": "display_data"
    },
    {
     "data": {
      "image/png": "[encoded data removed]",
      "text/plain": [
       "<Figure size 432x288 with 1 Axes>"
      ]
     },
     "metadata": {
      "needs_background": "light"
     },
     "output_type": "display_data"
    },
    {
     "name": "stdout",
     "output_type": "stream",
     "text": [
      "[0. 0. 0. 0. 0. 0. 0. 0. 1. 0.]\n"
     ]
    }
   ],
   "source": [
    "j = 7000\n",
    "\n",
    "plt.imshow(x_train[j, :].reshape(28, 28), cmap = matplotlib.cm.binary)\n",
    "plt.axis('off')\n",
    "plt.show()\n",
    "plt.imshow(x_train[j, :].reshape(28, 28))\n",
    "plt.axis('off')\n",
    "plt.show()\n",
    "print(y_train[j])"
   ]
  },
  {
   "cell_type": "code",
   "execution_count": null,
   "metadata": {},
   "outputs": [],
   "source": []
  },
  {
   "cell_type": "markdown",
   "metadata": {
    "colab": {},
    "colab_type": "code",
    "id": "52aMz8S_XW7k"
   },
   "source": [
    "## Define activation, loss, and their derivatives\n",
    "\n"
   ]
  },
  {
   "cell_type": "code",
   "execution_count": 21,
   "metadata": {
    "colab": {},
    "colab_type": "code",
    "id": "wI8vc500XW7o"
   },
   "outputs": [],
   "source": [
    "def sigmoid(x):\n",
    "    return 1/(1 + np.exp(-x))\n",
    "    \n",
    "def sigmoid_derivative(z):\n",
    "    return z * (1 - z)\n",
    "    \n",
    "def reLU(x):\n",
    "    return np.maximum(0, x) \n",
    "    \n",
    "def reLU_derivative(x):\n",
    "    return 0.5 * (np.sign(x) + 1)\n",
    "\n",
    "def cross_entropy_loss(y, y_hat):\n",
    "    L_sum = np.sum(np.multiply(y, np.log(y_hat)))\n",
    "    m = y.shape[1]\n",
    "    L = -(1/m) * L_sum\n",
    "    return L\n",
    "    \n",
    "def softmax(y):\n",
    "    return np.exp(y)/np.sum(np.exp(y), axis = 0)\n",
    "    \n",
    "def CE_softmax_derivative(output, ideal_output):\n",
    "    return (output - ideal_output)\n",
    "    "
   ]
  },
  {
   "cell_type": "code",
   "execution_count": 29,
   "metadata": {
    "colab": {
     "base_uri": "https://localhost:8080/",
     "height": 477
    },
    "colab_type": "code",
    "id": "mI4j41M6XW7r",
    "outputId": "3180ff07-d48d-4698-cad6-24ec7f0e400e"
   },
   "outputs": [],
   "source": [
    "input_data_dim = x_train.shape[1]\n",
    "n_hidden = 64\n",
    "learning_rate = 1\n",
    "weight_decay = 0.001\n",
    "W1 = 0.01 * np.random.randn(n_hidden, input_data_dim)\n",
    "b1 = np.zeros((n_hidden, 1))\n",
    "W2 = 0.01 * np.random.randn(n_digits, n_hidden)\n",
    "b2 = np.zeros((n_digits, 1))"
   ]
  },
  {
   "cell_type": "markdown",
   "metadata": {
    "colab": {
     "base_uri": "https://localhost:8080/",
     "height": 492
    },
    "colab_type": "code",
    "id": "NtMx3OmkXW7v",
    "outputId": "7e6adc73-2957-4616-ef0c-f3d5b314ba06"
   },
   "source": [
    "## Forward and Backward Propagation"
   ]
  },
  {
   "cell_type": "code",
   "execution_count": 37,
   "metadata": {
    "colab": {},
    "colab_type": "code",
    "id": "mMAuqPf-XW7z"
   },
   "outputs": [
    {
     "name": "stdout",
     "output_type": "stream",
     "text": [
      "Epoch : 0, cost : 0.32900626336465627\n",
      "Epoch : 10, cost : 0.3194145700223612\n",
      "Epoch : 20, cost : 0.2920830150736541\n",
      "Epoch : 30, cost : 0.48136870235309087\n",
      "Epoch : 40, cost : 0.26780137446901525\n",
      "Epoch : 50, cost : 0.2722512088640856\n",
      "Epoch : 60, cost : 0.2752721741946281\n",
      "Epoch : 70, cost : 0.24082860027678582\n",
      "Epoch : 80, cost : 0.2352439109004023\n",
      "Epoch : 90, cost : 0.26487349539083554\n",
      "Epoch : 100, cost : 0.23883146632179605\n",
      "Epoch : 110, cost : 0.22479998712528992\n",
      "Epoch : 120, cost : 0.22124368514494155\n",
      "Epoch : 130, cost : 0.3152680912283554\n",
      "Epoch : 140, cost : 0.22589444701970987\n"
     ]
    },
    {
     "data": {
      "image/png": "[encoded data removed]",
      "text/plain": [
       "<Figure size 432x288 with 1 Axes>"
      ]
     },
     "metadata": {
      "needs_background": "light"
     },
     "output_type": "display_data"
    }
   ],
   "source": [
    "n_epochs = 150\n",
    "cost_plot = np.zeros(n_epochs)\n",
    "\n",
    "for k in range(n_epochs):\n",
    "    # forward propagation\n",
    "    \n",
    "    Z1 = np.matmul(W1, x_train.T) + b1\n",
    "    A1 = reLU(Z1)\n",
    "    Z2 = np.matmul(W2, A1) + b2\n",
    "    A2 = softmax(Z2)\n",
    "    \n",
    "    cost = cross_entropy_loss(y_train.T, A2)\n",
    "    cost_plot[k] = cost\n",
    "    \n",
    "    # backward propagation\n",
    "    \n",
    "    dZ2 = CE_softmax_derivative(A2, y_train.T)\n",
    "    dW2 = (1./m) * np.matmul(dZ2, A1.T)\n",
    "    db2 = (1./m) * np.sum(dZ2, axis = 1, keepdims = True)\n",
    "    \n",
    "    dA1 = np.matmul(W2.T, dZ2)\n",
    "    dZ1 = dA1 * reLU_derivative(Z1)\n",
    "    dW1 = (1./m) * np.matmul(dZ1, x_train)\n",
    "    db1 = (1./m) * np.sum(dZ1, axis = 1, keepdims = True)\n",
    "    \n",
    "    W2 -= learning_rate * dW2 + weight_decay * W2\n",
    "    b2 -= learning_rate * db2\n",
    "    W1 -= learning_rate * dW1 + weight_decay * W1\n",
    "    b1 -= learning_rate * db1\n",
    "    \n",
    "    if k%10 == 0:\n",
    "        print(\"Epoch : {0}, cost : {1}\".format(k, cost))\n",
    "        \n",
    "plt.plot(cost_plot)\n",
    "plt.xlabel('Epochs')\n",
    "plt.ylabel('Training loss')\n",
    "plt.show()\n",
    "    "
   ]
  },
  {
   "cell_type": "code",
   "execution_count": 38,
   "metadata": {},
   "outputs": [
    {
     "name": "stdout",
     "output_type": "stream",
     "text": [
      "[[ 958    0   11    2    1    9    9    2    5   11]\n",
      " [   0 1115    4    1    1    2    3   11    8    3]\n",
      " [   1    1  952   19    4    1    6   23    8    1]\n",
      " [   2    4   13  937    0   28    1    2   23   12]\n",
      " [   0    0   10    1  923    5   11    7    5   46]\n",
      " [   5    0    1   19    0  808   11    1    9    3]\n",
      " [   6    3   11    1   14   10  913    1   13    1]\n",
      " [   2    2   10   11    2    5    1  965    8    8]\n",
      " [   4   10   18   12    3   19    3    0  892   11]\n",
      " [   2    0    2    7   34    5    0   16    3  913]]\n",
      "              precision    recall  f1-score   support\n",
      "\n",
      "           0       0.98      0.95      0.96      1008\n",
      "           1       0.98      0.97      0.98      1148\n",
      "           2       0.92      0.94      0.93      1016\n",
      "           3       0.93      0.92      0.92      1022\n",
      "           4       0.94      0.92      0.93      1008\n",
      "           5       0.91      0.94      0.92       857\n",
      "           6       0.95      0.94      0.95       973\n",
      "           7       0.94      0.95      0.95      1014\n",
      "           8       0.92      0.92      0.92       972\n",
      "           9       0.90      0.93      0.92       982\n",
      "\n",
      "    accuracy                           0.94     10000\n",
      "   macro avg       0.94      0.94      0.94     10000\n",
      "weighted avg       0.94      0.94      0.94     10000\n",
      "\n"
     ]
    },
    {
     "data": {
      "text/plain": [
       "0.9376"
      ]
     },
     "execution_count": 38,
     "metadata": {},
     "output_type": "execute_result"
    }
   ],
   "source": [
    "Z1 = np.matmul(W1, x_test.T) + b1\n",
    "A1 = reLU(Z1)\n",
    "Z2 = np.matmul(W2, A1) + b2\n",
    "A2 = softmax(Z2)\n",
    "\n",
    "predictions = np.argmax(A2, axis=0)\n",
    "labels = np.argmax(y_test.T, axis=0)\n",
    "\n",
    "print(confusion_matrix(predictions, labels))\n",
    "print(classification_report(predictions, labels))\n",
    "\n",
    "from sklearn.metrics import accuracy_score\n",
    "accuracy_score(labels, predictions)"
   ]
  },
  {
   "cell_type": "code",
   "execution_count": null,
   "metadata": {},
   "outputs": [],
   "source": []
  }
 ],
 "metadata": {
  "accelerator": "GPU",
  "colab": {
   "name": "test.ipynb",
   "provenance": []
  },
  "kernelspec": {
   "display_name": "Python 3",
   "language": "python",
   "name": "python3"
  },
  "language_info": {
   "codemirror_mode": {
    "name": "ipython",
    "version": 3
   },
   "file_extension": ".py",
   "mimetype": "text/x-python",
   "name": "python",
   "nbconvert_exporter": "python",
   "pygments_lexer": "ipython3",
   "version": "3.7.6"
  }
 },
 "nbformat": 4,
 "nbformat_minor": 1
}
